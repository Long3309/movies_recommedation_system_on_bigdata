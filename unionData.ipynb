{
 "cells": [
  {
   "cell_type": "code",
   "execution_count": 1,
   "metadata": {},
   "outputs": [],
   "source": [
    "import pandas as pd\n",
    "import datetime"
   ]
  },
  {
   "cell_type": "code",
   "execution_count": 2,
   "metadata": {},
   "outputs": [
    {
     "name": "stdout",
     "output_type": "stream",
     "text": [
      "Hôm nay là ngày: 08-12-2023\n",
      "Hôm qua là ngày: 07-12-2023\n"
     ]
    }
   ],
   "source": [
    "today = datetime.datetime.now().strftime(\"%d-%m-%Y\")\n",
    "print(\"Hôm nay là ngày:\", today)\n",
    "yesterday = (datetime.datetime.now() - datetime.timedelta(days = 1)).strftime(\"%d-%m-%Y\")\n",
    "print(\"Hôm qua là ngày:\", yesterday)\n"
   ]
  },
  {
   "cell_type": "code",
   "execution_count": 3,
   "metadata": {},
   "outputs": [
    {
     "name": "stdout",
     "output_type": "stream",
     "text": [
      "Độ lớn của old data và new data: 1095626 95655\n"
     ]
    }
   ],
   "source": [
    "oldData = pd.read_csv(f\"./enrich/{yesterday}/ratings.csv\")\n",
    "newData = pd.read_csv(f\"./raw/{today}.csv\")\n",
    "print(\"Độ lớn của old data và new data:\", oldData.shape[0], newData.shape[0])"
   ]
  },
  {
   "cell_type": "code",
   "execution_count": 4,
   "metadata": {},
   "outputs": [
    {
     "data": {
      "text/html": [
       "<div>\n",
       "<style scoped>\n",
       "    .dataframe tbody tr th:only-of-type {\n",
       "        vertical-align: middle;\n",
       "    }\n",
       "\n",
       "    .dataframe tbody tr th {\n",
       "        vertical-align: top;\n",
       "    }\n",
       "\n",
       "    .dataframe thead th {\n",
       "        text-align: right;\n",
       "    }\n",
       "</style>\n",
       "<table border=\"1\" class=\"dataframe\">\n",
       "  <thead>\n",
       "    <tr style=\"text-align: right;\">\n",
       "      <th></th>\n",
       "      <th>userID</th>\n",
       "      <th>itemID</th>\n",
       "      <th>rating</th>\n",
       "      <th>timestamp</th>\n",
       "    </tr>\n",
       "  </thead>\n",
       "  <tbody>\n",
       "    <tr>\n",
       "      <th>0</th>\n",
       "      <td>1</td>\n",
       "      <td>1193</td>\n",
       "      <td>5</td>\n",
       "      <td>978300760</td>\n",
       "    </tr>\n",
       "    <tr>\n",
       "      <th>1</th>\n",
       "      <td>1</td>\n",
       "      <td>661</td>\n",
       "      <td>3</td>\n",
       "      <td>978302109</td>\n",
       "    </tr>\n",
       "    <tr>\n",
       "      <th>2</th>\n",
       "      <td>1</td>\n",
       "      <td>914</td>\n",
       "      <td>3</td>\n",
       "      <td>978301968</td>\n",
       "    </tr>\n",
       "    <tr>\n",
       "      <th>3</th>\n",
       "      <td>1</td>\n",
       "      <td>3408</td>\n",
       "      <td>4</td>\n",
       "      <td>978300275</td>\n",
       "    </tr>\n",
       "    <tr>\n",
       "      <th>4</th>\n",
       "      <td>1</td>\n",
       "      <td>2355</td>\n",
       "      <td>5</td>\n",
       "      <td>978824291</td>\n",
       "    </tr>\n",
       "    <tr>\n",
       "      <th>...</th>\n",
       "      <td>...</td>\n",
       "      <td>...</td>\n",
       "      <td>...</td>\n",
       "      <td>...</td>\n",
       "    </tr>\n",
       "    <tr>\n",
       "      <th>1191276</th>\n",
       "      <td>1466</td>\n",
       "      <td>2045</td>\n",
       "      <td>2</td>\n",
       "      <td>1671476923</td>\n",
       "    </tr>\n",
       "    <tr>\n",
       "      <th>1191277</th>\n",
       "      <td>4543</td>\n",
       "      <td>2363</td>\n",
       "      <td>4</td>\n",
       "      <td>1676690761</td>\n",
       "    </tr>\n",
       "    <tr>\n",
       "      <th>1191278</th>\n",
       "      <td>1211</td>\n",
       "      <td>2381</td>\n",
       "      <td>4</td>\n",
       "      <td>1690787910</td>\n",
       "    </tr>\n",
       "    <tr>\n",
       "      <th>1191279</th>\n",
       "      <td>107</td>\n",
       "      <td>3710</td>\n",
       "      <td>5</td>\n",
       "      <td>1688456768</td>\n",
       "    </tr>\n",
       "    <tr>\n",
       "      <th>1191280</th>\n",
       "      <td>4340</td>\n",
       "      <td>3858</td>\n",
       "      <td>5</td>\n",
       "      <td>1684388407</td>\n",
       "    </tr>\n",
       "  </tbody>\n",
       "</table>\n",
       "<p>1191281 rows × 4 columns</p>\n",
       "</div>"
      ],
      "text/plain": [
       "         userID  itemID  rating   timestamp\n",
       "0             1    1193       5   978300760\n",
       "1             1     661       3   978302109\n",
       "2             1     914       3   978301968\n",
       "3             1    3408       4   978300275\n",
       "4             1    2355       5   978824291\n",
       "...         ...     ...     ...         ...\n",
       "1191276    1466    2045       2  1671476923\n",
       "1191277    4543    2363       4  1676690761\n",
       "1191278    1211    2381       4  1690787910\n",
       "1191279     107    3710       5  1688456768\n",
       "1191280    4340    3858       5  1684388407\n",
       "\n",
       "[1191281 rows x 4 columns]"
      ]
     },
     "execution_count": 4,
     "metadata": {},
     "output_type": "execute_result"
    }
   ],
   "source": [
    "uniondata = pd.concat([oldData, newData], ignore_index=True)\n",
    "uniondata"
   ]
  },
  {
   "cell_type": "code",
   "execution_count": 5,
   "metadata": {},
   "outputs": [],
   "source": [
    "import os\n",
    "try:\n",
    "    os.mkdir(f\"./enrich/{today}\")\n",
    "except:\n",
    "    print(\"Thư mục đã tồn tại\")"
   ]
  },
  {
   "cell_type": "code",
   "execution_count": 6,
   "metadata": {},
   "outputs": [],
   "source": [
    "uniondata.to_csv(f\"./enrich/{today}/ratings.csv\", index=False)"
   ]
  }
 ],
 "metadata": {
  "kernelspec": {
   "display_name": "recommender-systems",
   "language": "python",
   "name": "python3"
  },
  "language_info": {
   "codemirror_mode": {
    "name": "ipython",
    "version": 3
   },
   "file_extension": ".py",
   "mimetype": "text/x-python",
   "name": "python",
   "nbconvert_exporter": "python",
   "pygments_lexer": "ipython3",
   "version": "3.10.13"
  }
 },
 "nbformat": 4,
 "nbformat_minor": 2
}
