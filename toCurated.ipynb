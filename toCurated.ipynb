{
 "cells": [
  {
   "cell_type": "code",
   "execution_count": 1,
   "metadata": {},
   "outputs": [],
   "source": [
    "import pandas as pd\n",
    "import datetime\n",
    "import time"
   ]
  },
  {
   "cell_type": "code",
   "execution_count": 2,
   "metadata": {},
   "outputs": [
    {
     "name": "stdout",
     "output_type": "stream",
     "text": [
      "Hôm nay là ngày: 10-12-2023\n"
     ]
    }
   ],
   "source": [
    "today = datetime.datetime.now().strftime(\"%d-%m-%Y\")\n",
    "print(\"Hôm nay là ngày:\", today)"
   ]
  },
  {
   "cell_type": "code",
   "execution_count": 3,
   "metadata": {},
   "outputs": [
    {
     "data": {
      "text/html": [
       "<div>\n",
       "<style scoped>\n",
       "    .dataframe tbody tr th:only-of-type {\n",
       "        vertical-align: middle;\n",
       "    }\n",
       "\n",
       "    .dataframe tbody tr th {\n",
       "        vertical-align: top;\n",
       "    }\n",
       "\n",
       "    .dataframe thead th {\n",
       "        text-align: right;\n",
       "    }\n",
       "</style>\n",
       "<table border=\"1\" class=\"dataframe\">\n",
       "  <thead>\n",
       "    <tr style=\"text-align: right;\">\n",
       "      <th></th>\n",
       "      <th>userID</th>\n",
       "      <th>itemID</th>\n",
       "      <th>rating</th>\n",
       "      <th>timestamp</th>\n",
       "    </tr>\n",
       "  </thead>\n",
       "  <tbody>\n",
       "    <tr>\n",
       "      <th>0</th>\n",
       "      <td>1</td>\n",
       "      <td>1193</td>\n",
       "      <td>5</td>\n",
       "      <td>978300760</td>\n",
       "    </tr>\n",
       "    <tr>\n",
       "      <th>1</th>\n",
       "      <td>1</td>\n",
       "      <td>661</td>\n",
       "      <td>3</td>\n",
       "      <td>978302109</td>\n",
       "    </tr>\n",
       "    <tr>\n",
       "      <th>2</th>\n",
       "      <td>1</td>\n",
       "      <td>914</td>\n",
       "      <td>3</td>\n",
       "      <td>978301968</td>\n",
       "    </tr>\n",
       "    <tr>\n",
       "      <th>3</th>\n",
       "      <td>1</td>\n",
       "      <td>3408</td>\n",
       "      <td>4</td>\n",
       "      <td>978300275</td>\n",
       "    </tr>\n",
       "    <tr>\n",
       "      <th>4</th>\n",
       "      <td>1</td>\n",
       "      <td>2355</td>\n",
       "      <td>5</td>\n",
       "      <td>978824291</td>\n",
       "    </tr>\n",
       "    <tr>\n",
       "      <th>...</th>\n",
       "      <td>...</td>\n",
       "      <td>...</td>\n",
       "      <td>...</td>\n",
       "      <td>...</td>\n",
       "    </tr>\n",
       "    <tr>\n",
       "      <th>1382931</th>\n",
       "      <td>2198</td>\n",
       "      <td>3541</td>\n",
       "      <td>5</td>\n",
       "      <td>1691222069</td>\n",
       "    </tr>\n",
       "    <tr>\n",
       "      <th>1382932</th>\n",
       "      <td>1512</td>\n",
       "      <td>77</td>\n",
       "      <td>5</td>\n",
       "      <td>1695154347</td>\n",
       "    </tr>\n",
       "    <tr>\n",
       "      <th>1382933</th>\n",
       "      <td>1520</td>\n",
       "      <td>2224</td>\n",
       "      <td>1</td>\n",
       "      <td>1691442202</td>\n",
       "    </tr>\n",
       "    <tr>\n",
       "      <th>1382934</th>\n",
       "      <td>1740</td>\n",
       "      <td>1310</td>\n",
       "      <td>1</td>\n",
       "      <td>1688078268</td>\n",
       "    </tr>\n",
       "    <tr>\n",
       "      <th>1382935</th>\n",
       "      <td>463</td>\n",
       "      <td>1099</td>\n",
       "      <td>2</td>\n",
       "      <td>1673360235</td>\n",
       "    </tr>\n",
       "  </tbody>\n",
       "</table>\n",
       "<p>1382936 rows × 4 columns</p>\n",
       "</div>"
      ],
      "text/plain": [
       "         userID  itemID  rating   timestamp\n",
       "0             1    1193       5   978300760\n",
       "1             1     661       3   978302109\n",
       "2             1     914       3   978301968\n",
       "3             1    3408       4   978300275\n",
       "4             1    2355       5   978824291\n",
       "...         ...     ...     ...         ...\n",
       "1382931    2198    3541       5  1691222069\n",
       "1382932    1512      77       5  1695154347\n",
       "1382933    1520    2224       1  1691442202\n",
       "1382934    1740    1310       1  1688078268\n",
       "1382935     463    1099       2  1673360235\n",
       "\n",
       "[1382936 rows x 4 columns]"
      ]
     },
     "execution_count": 3,
     "metadata": {},
     "output_type": "execute_result"
    }
   ],
   "source": [
    "# ratings = pd.read_csv(\"./enrich/07-12-2023/ratings.csv\")\n",
    "ratings = pd.read_csv(f\"./enrich/{today}/ratings.csv\")\n",
    "ratings"
   ]
  },
  {
   "cell_type": "code",
   "execution_count": 4,
   "metadata": {},
   "outputs": [],
   "source": [
    "movies = pd.read_csv(\"./enrich/movies.csv\")"
   ]
  },
  {
   "cell_type": "code",
   "execution_count": 5,
   "metadata": {},
   "outputs": [],
   "source": [
    "users = pd.read_csv(\"./enrich/users.csv\")"
   ]
  },
  {
   "cell_type": "code",
   "execution_count": 6,
   "metadata": {},
   "outputs": [],
   "source": [
    "curatedData = ratings.merge(users, on=\"userID\", how=\"inner\")\n",
    "curatedData = curatedData.merge(movies, on=\"itemID\", how = \"inner\")\n",
    "# curatedData.to_csv(\"./curated/ratings_info.csv\", index=False)"
   ]
  },
  {
   "cell_type": "code",
   "execution_count": 7,
   "metadata": {},
   "outputs": [],
   "source": [
    "temp = curatedData.copy()"
   ]
  },
  {
   "cell_type": "code",
   "execution_count": 8,
   "metadata": {},
   "outputs": [],
   "source": [
    "temp[\"timestamp\"] = pd.to_datetime(curatedData['timestamp'], unit='s')\n",
    "temp['timestamp'] = temp['timestamp'].dt.strftime('%d-%m-%Y')\n",
    "temp.to_csv(\"./curated/ratings_info.csv\", index=False)"
   ]
  }
 ],
 "metadata": {
  "kernelspec": {
   "display_name": "recommender-systems",
   "language": "python",
   "name": "python3"
  },
  "language_info": {
   "codemirror_mode": {
    "name": "ipython",
    "version": 3
   },
   "file_extension": ".py",
   "mimetype": "text/x-python",
   "name": "python",
   "nbconvert_exporter": "python",
   "pygments_lexer": "ipython3",
   "version": "3.10.13"
  }
 },
 "nbformat": 4,
 "nbformat_minor": 2
}
