{
 "cells": [
  {
   "cell_type": "code",
   "execution_count": 5,
   "metadata": {},
   "outputs": [],
   "source": [
    "import sys\n",
    "sys.path.append(\"..\")\n",
    "import pandas as pd\n",
    "import numpy as np\n",
    "from recommenders.utils.constants import (\n",
    "    DEFAULT_ITEM_COL,\n",
    "    DEFAULT_USER_COL,\n",
    "    DEFAULT_TIMESTAMP_COL,\n",
    "    DEFAULT_TITLE_COL,\n",
    "    DEFAULT_GENRE_COL,\n",
    "    DEFAULT_RATING_COL\n",
    ")\n",
    "import numpy as np\n",
    "import os"
   ]
  },
  {
   "cell_type": "code",
   "execution_count": 6,
   "metadata": {},
   "outputs": [],
   "source": [
    "movies_col = [DEFAULT_ITEM_COL, DEFAULT_TITLE_COL, DEFAULT_GENRE_COL]\n",
    "movies = pd.read_csv(\"../data/movielens_1M/movies.dat\", sep=\"::\", \n",
    "            engine=\"python\", encoding=\"latin-1\", names=movies_col)\n"
   ]
  },
  {
   "cell_type": "code",
   "execution_count": null,
   "metadata": {},
   "outputs": [],
   "source": [
    "list_of_genres = ['Action',\n",
    " 'Adventure',\n",
    " 'Animation',\n",
    " \"Children's\",\n",
    " 'Comedy',\n",
    " 'Crime',\n",
    " 'Documentary',\n",
    " 'Drama',\n",
    " 'Fantasy',\n",
    " 'Film-Noir',\n",
    " 'Horror',\n",
    " 'Musical',\n",
    " 'Mystery',\n",
    " 'Romance',\n",
    " 'Sci-Fi',\n",
    " 'Thriller',\n",
    " 'War',\n",
    " 'Western']"
   ]
  },
  {
   "cell_type": "code",
   "execution_count": null,
   "metadata": {},
   "outputs": [],
   "source": [
    "# Tách genres thành các cột mới\n",
    "for genre in list_of_genres:\n",
    "    movies[genre] = movies['genres'].apply(lambda x: 1 if genre in x.split('|') else 0)\n",
    "\n",
    "# Loại bỏ cột 'genres' nếu không cần thiết\n",
    "movies.drop('genres', axis=1, inplace=True)\n",
    "movies.to_csv(\"../enrich/movies.csv\", index=False)"
   ]
  },
  {
   "cell_type": "code",
   "execution_count": 7,
   "metadata": {},
   "outputs": [],
   "source": [
    "rating_col = [DEFAULT_USER_COL, DEFAULT_ITEM_COL, DEFAULT_RATING_COL, DEFAULT_TIMESTAMP_COL]\n",
    "ratings =  pd.read_csv(\"../data/movielens_1M/ratings.dat\", sep=\"::\", \n",
    "            engine=\"python\", encoding=\"latin-1\", names=rating_col)\n",
    "ratings.to_csv(\"../enrich/ratings.csv\", index=False)"
   ]
  },
  {
   "cell_type": "code",
   "execution_count": 27,
   "metadata": {},
   "outputs": [],
   "source": [
    "import datetime \n",
    "current_time = datetime.datetime.now() \n",
    "now_path = \"../enrich/{}-{}-{}\".format(current_time.day, current_time.month, current_time.year)\n",
    "if not os.path.exists(now_path):\n",
    "    os.mkdir(now_path)\n",
    "movies.to_csv(\"{}/movies.csv\".format(now_path), index=False)\n",
    "ratings.to_csv(\"{}/ratings.csv\".format(now_path), index=False)"
   ]
  }
 ],
 "metadata": {
  "kernelspec": {
   "display_name": "recommender-systems",
   "language": "python",
   "name": "python3"
  },
  "language_info": {
   "codemirror_mode": {
    "name": "ipython",
    "version": 3
   },
   "file_extension": ".py",
   "mimetype": "text/x-python",
   "name": "python",
   "nbconvert_exporter": "python",
   "pygments_lexer": "ipython3",
   "version": "3.10.13"
  }
 },
 "nbformat": 4,
 "nbformat_minor": 2
}
